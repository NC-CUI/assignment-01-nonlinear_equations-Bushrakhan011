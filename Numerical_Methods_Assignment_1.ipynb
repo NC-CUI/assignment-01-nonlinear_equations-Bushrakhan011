{
 "cells": [
  {
   "cell_type": "markdown",
   "id": "5417346c",
   "metadata": {},
   "source": [
    "# Assignment#1\n",
    "\n",
    "**TASK#1 :** Explain each code in detail by adding comments in each line.\n",
    "\n",
    "**TASK#2 :** Compare the results of following questions with all methods and also plot the graphs of all functions.\n",
    "\n",
    "# Note :\n",
    "\n",
    "All codes are solved for your better understanding and as reference. You need to find the soltution of all\n",
    "\n",
    "problems and then compare the results by making a table. For example you can make a table in Excel sheet.  \n",
    "\n",
    "**Questions#1**\n",
    "\n",
    "Find the roots of the following cubic equation:<br>\n",
    "    $x^3-5x-9=0$\n",
    "\n",
    "Take Guess1 = 2 and Guess2 = 3\n",
    "\n",
    "**Question#2**\n",
    "\n",
    "Find the roots of the following cubic equation:<br>\n",
    "    $2x^3-9.5x+7.5=0$\n",
    "    \n",
    "take initial guess = 5 \n",
    "\n",
    "**Question#3**\n",
    "\n",
    "Find the root of the following equation:\n",
    "\n",
    "$x^2-sin^2(x)-4x+1=0$\n",
    "\n",
    "take guess1 = 0 and guess2 = 1\n",
    "\n",
    "**Question#4**\n",
    "    \n",
    "Find the roots of the following equation\n",
    "\n",
    "$2x^2 - 5x + 3 = 0$ \n",
    "\n",
    "take guess1 = -2 and guess2 = 2"
   ]
  },
  {
   "cell_type": "markdown",
   "id": "4e84277c",
   "metadata": {},
   "source": [
    "# 1- Bisection Method"
   ]
  },
  {
   "cell_type": "code",
   "execution_count": 1,
   "id": "fc5c0e8d",
   "metadata": {},
   "outputs": [
    {
     "name": "stdout",
     "output_type": "stream",
     "text": [
      "first guess: 2\n",
      "second guess: 3\n",
      "tolerance: 0.001\n",
      "iteration 1, x2 = 2.500000 and f(x2)= -5.875000\n",
      "iteration 2, x2 = 2.750000 and f(x2)= -1.953125\n",
      "iteration 3, x2 = 2.875000 and f(x2)= 0.388672\n",
      "iteration 4, x2 = 2.812500 and f(x2)= -0.815186\n",
      "iteration 5, x2 = 2.843750 and f(x2)= -0.221588\n",
      "iteration 6, x2 = 2.859375 and f(x2)= 0.081448\n",
      "iteration 7, x2 = 2.851562 and f(x2)= -0.070592\n",
      "iteration 8, x2 = 2.855469 and f(x2)= 0.005297\n",
      "iteration 9, x2 = 2.853516 and f(x2)= -0.032680\n",
      "iteration 10, x2 = 2.854492 and f(x2)= -0.013700\n",
      "iteration 11, x2 = 2.854980 and f(x2)= -0.004204\n",
      "iteration 12, x2 = 2.855225 and f(x2)= 0.000546\n",
      "root is :2.85522461 \n"
     ]
    }
   ],
   "source": [
    "# guess1 = 2, guess2 = 3\n",
    "from math import sin   # importing from math library\n",
    "def bisection(x0,x1,e):   # fuction starts here\n",
    "    step = 1   # initializing step variable with 1\n",
    "    condition = True    # boolean variable with true as initial value\n",
    "    while condition:    # if boolean is true th+en execute while else dont\n",
    "        x2 = (x0+x1)/2   # finding mean of x0 and x1\n",
    "        print('iteration %d, x2 = %0.6f and f(x2)= %0.6f' %(step,x2,f(x2)))   # printing iteration, x2 and f(x2)\n",
    "        \n",
    "        if f(x0) * f(x2) < 0:     # if product of functional value of x0 and x2 is less than 0\n",
    "            x1 = x2    # then exchange value of x1 with mean value(x2)\n",
    "        else:\n",
    "            x0 = x2    # else exchange value of x0 with mean value(x2)\n",
    "        step = step +1     # increment step number \n",
    "        # storing true in condition if abs of functional value of x2 is greater than tolerance\n",
    "        condition = abs(f(x2)) > e\n",
    "    print('root is :%0.8f '%x2)\n",
    "#    return x2\n",
    "    \n",
    "def f(x):    # finding functional value of x0 and x1 through this function\n",
    "    return x**3-5*x-9\n",
    "\n",
    "x0 = float(input('first guess: '))    # taking input of first guess\n",
    "x1 = float(input('second guess: '))   # taking input of second guess\n",
    "e  = float(input('tolerance: '))      # taking input of tolerance\n",
    "\n",
    "if f(x0) * f(x1) > 0.0:    # if product of functional value of x0 and x1 is greater than 0\n",
    "    print('given guess values do not bracket the root')\n",
    "else:    # if product of functional value of x0 and x1 is less than 0\n",
    "    root = bisection(x0,x1,e)    # call bisection function with x0,x1 and tolerance values, storing return value in root"
   ]
  },
  {
   "cell_type": "markdown",
   "id": "62b894b3",
   "metadata": {},
   "source": [
    "# 2- Newton's Raphson Method"
   ]
  },
  {
   "cell_type": "code",
   "execution_count": 2,
   "id": "5040dac2",
   "metadata": {},
   "outputs": [
    {
     "name": "stdout",
     "output_type": "stream",
     "text": [
      "the root is 1.500 at 7 iterations.\n"
     ]
    }
   ],
   "source": [
    "from math import sin    # importing from math library\n",
    "def newton(fn,dfn,x,tol,maxiter):    # receiving parameters in function newton\n",
    "    for i in range(maxiter):    # loop that run until maxiter\n",
    "        # using formula x - FN / F'x\n",
    "        xnew = x - fn(x)/dfn(x)   # taking result in xnew        \n",
    "        if abs(xnew-x)<tol:   # checking if xnew-x is less than tolerance value\n",
    "            break   # end the iterations        \n",
    "            \n",
    "        x = xnew   # if xnew-x > tolerance , subtitute x with xnew\n",
    "    return xnew, i\n",
    "\n",
    "y = lambda x: 2*x**3-9.5*x+7.5   # original cubic equation\n",
    "dy = lambda x : 6*x**2-9.5       # derivative of cubic equation\n",
    "\n",
    "x, n = newton(y, dy, 5, 0.0001, 100)   # calling function and storing returning value in x and n\n",
    "print('the root is %.3f at %d iterations.'%(x,n))"
   ]
  },
  {
   "cell_type": "markdown",
   "id": "55eeed2c",
   "metadata": {},
   "source": [
    "# 3- Regula Falsi Method"
   ]
  },
  {
   "cell_type": "code",
   "execution_count": 3,
   "id": "ca72b9b0",
   "metadata": {},
   "outputs": [
    {
     "name": "stdout",
     "output_type": "stream",
     "text": [
      "enter x1: 0\n",
      "enter x2: 1\n",
      "The root = 0.250324 at 4 false position\n"
     ]
    }
   ],
   "source": [
    "from math import sin    # importing from math library\n",
    "def reg_falsi(f,x1,x2,tol=1.0e-6,maxfpos=100):   # receiving parameters\n",
    "    \n",
    "    if f(x1) * f(x2)<0:    # if product of functional value of x1 and x2 is less than 0\n",
    "        for fpos in range(1,maxfpos+1):   # loop from 1 to 101\n",
    "            # using the formula for regula falsi method\n",
    "            xh = x2 - (x2-x1)/(f(x2)-f(x1)) * f(x2)   # receiving root in xh\n",
    "            if abs(f(xh)) < tol:   # if f(xh) is less than tolerance \n",
    "                break   # break the loop and go to return statement\n",
    "            elif f(x1) * f(xh) < 0:   # if product of functional value of x1 and xh is less than 0\n",
    "                x2 = xh    # if product is less than 0 then x2 = xh\n",
    "            else:\n",
    "                x1 = xh   # if product is greater than 0 then x1 = xh\n",
    "    else:   # if the root doesnt exist and if doesnt execute then this else executes\n",
    "        print('No roots exists within the given interval')\n",
    "        \n",
    "    return xh, fpos   # returning values\n",
    "\n",
    "y = lambda x: x**2 - sin(x)**2 - 4*x + 1   # this equation is defined in the form of function \n",
    "\n",
    "x1 = float(input('enter x1: '))   # taking initial guess x1\n",
    "x2 = float(input('enter x2: '))   # taking initial guess x2\n",
    "\n",
    "r, n = reg_falsi(y,x1,x2)    # calling function and receiving in r and n\n",
    "print('The root = %f at %d false position'%(r,n))"
   ]
  },
  {
   "cell_type": "markdown",
   "id": "170cac1e",
   "metadata": {},
   "source": [
    "# 4- Secant Method"
   ]
  },
  {
   "cell_type": "code",
   "execution_count": 5,
   "id": "05c3d4fa",
   "metadata": {},
   "outputs": [
    {
     "name": "stdout",
     "output_type": "stream",
     "text": [
      "enter x1: -2\n",
      "enter x2: 2\n",
      "Root = 1.500000 at 8 iterations\n"
     ]
    }
   ],
   "source": [
    "from math import sin     # importing from math library\n",
    "def secant(fn,x1,x2,tol,maxiter):   # receiving the parameters\n",
    "    for i in range(maxiter):   # loop until maxiter(100)\n",
    "        # using formula for secant method\n",
    "        xnew  = x2 - (x2-x1)/(fn(x2)-fn(x1))*fn(x2)  # storing root in xnew \n",
    "        if abs(xnew-x2) < tol:   # if xnew-x2 is less than tolerance\n",
    "            break  # then break the loop\n",
    "        else:\n",
    "            x1 = x2  # subtituting value of x2 in x1\n",
    "            x2 = xnew      # subtituting value of xnew in x2\n",
    "    else:\n",
    "        print('warning: Maximum number of iterations is reached')\n",
    "    return xnew, i   # return the root and step number\n",
    "\n",
    "f = lambda x: 2*x**2 - 5*x + 3   # this equation is defined in the form of function\n",
    "\n",
    "x1 = float(input('enter x1: '))   # taking first value\n",
    "x2 = float(input('enter x2: '))   # taking second value\n",
    "\n",
    "r, n = secant(f,x1,x2,1.0e-6,100)   # calling function and receive in r and n\n",
    "\n",
    "print('Root = %f at %d iterations'%(r,n))"
   ]
  },
  {
   "cell_type": "code",
   "execution_count": null,
   "id": "75aa7878",
   "metadata": {},
   "outputs": [],
   "source": []
  }
 ],
 "metadata": {
  "kernelspec": {
   "display_name": "Python 3",
   "language": "python",
   "name": "python3"
  },
  "language_info": {
   "codemirror_mode": {
    "name": "ipython",
    "version": 3
   },
   "file_extension": ".py",
   "mimetype": "text/x-python",
   "name": "python",
   "nbconvert_exporter": "python",
   "pygments_lexer": "ipython3",
   "version": "3.8.8"
  }
 },
 "nbformat": 4,
 "nbformat_minor": 5
}
